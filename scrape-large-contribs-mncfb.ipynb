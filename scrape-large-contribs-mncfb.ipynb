{
 "cells": [
  {
   "cell_type": "code",
   "execution_count": 4,
   "metadata": {},
   "outputs": [],
   "source": [
    "import re\n",
    "import requests as req\n",
    "\n",
    "from bs4 import BeautifulSoup"
   ]
  },
  {
   "cell_type": "code",
   "execution_count": null,
   "metadata": {},
   "outputs": [],
   "source": [
    "report_url = 'https://cfb.mn.gov/reports-and-data/viewers/campaign-finance/large-contribution-notices/'\n",
    "report_r = req.get(report_url)\n",
    "soup = BeautifulSoup(report_r.content)"
   ]
  },
  {
   "cell_type": "code",
   "execution_count": null,
   "metadata": {},
   "outputs": [],
   "source": [
    "candidate_soup = soup.find('div',{'class':'candidate-reports col-md-6'})\n",
    "pcf_soup = soup.find('div',{'class':'pcf-reports col-md-6'})\n",
    "js_link_list = [dd.a['href'] for dd in candidate_soup.find_all('dd')]\n",
    "print(js_link_list)"
   ]
  },
  {
   "cell_type": "code",
   "execution_count": null,
   "metadata": {},
   "outputs": [],
   "source": [
    "def arg_dict2api(arg_dict):\n",
    "    api_url = 'https://cfb.mn.gov/rptViewer/Main.php?do=viewPDF'\n",
    "    _api_url = api_url\n",
    "    for k, v in arg_dict.items():\n",
    "        _api_url += f'&{k}={v}'\n",
    "    return _api_url\n",
    "\n",
    "def arg_jsl2api(js_link):\n",
    "    js_re_pattern = \"javascript:viewNoticePDF\\((.+)\\);\"\n",
    "    arg_keys = ['year','type','period','se','regnum','date']\n",
    "    arg_tup = tuple(qarg.strip(\"'\\\"\") for qarg in re.search(js_re_pattern,js_link).group(1).split(','))\n",
    "    arg_dict =  {k:v for k, v in zip(arg_keys,arg_tup)}\n",
    "    return arg_dict2api(arg_dict)"
   ]
  },
  {
   "cell_type": "code",
   "execution_count": null,
   "metadata": {},
   "outputs": [],
   "source": [
    "api_url_list = [arg_jsl2api(js_link) for js_link in js_link_list]\n",
    "print(api_url_list)"
   ]
  },
  {
   "cell_type": "code",
   "execution_count": 1,
   "metadata": {},
   "outputs": [],
   "source": [
    "with open('report_pdf/24_notice_PrePrimary_0_19072_240726_114701.txt','r') as f:\n",
    "    pdf_text = f.read()"
   ]
  },
  {
   "cell_type": "code",
   "execution_count": 2,
   "metadata": {},
   "outputs": [
    {
     "data": {
      "text/plain": [
       "'Large Contribution Notice\\nCandidate / Committee Information\\nCommittee: Jones, Katie District 61A Committee (19072)\\nTreasurer: Nalezny, Brian\\nPeriod: 07/23/2024 through 08/12/2024\\nSubmission date: July 27, 2024\\nReceived by the Board July 27, 2024\\nContributor, Lender, or Endorser Information\\nContribution received from\\nName: Lawrence, Mary\\nEmployer: Doctor\\nAddress: 4415 E Lake Harriet Pkwy\\nStreet:\\nCity: Minneapolis State: MN Zip code: 55419\\nDate: 07/26/2024 Amount: 1,000.00\\nInkind: No Description:\\nLoan: No\\nCampaign Finance Reporter Online 1.0.4439 XSD Version: 2.6 Printed 07/27/2024\\nPage 1\\n\\x0c'"
      ]
     },
     "execution_count": 2,
     "metadata": {},
     "output_type": "execute_result"
    }
   ],
   "source": [
    "pdf_text"
   ]
  },
  {
   "cell_type": "code",
   "execution_count": 41,
   "metadata": {},
   "outputs": [],
   "source": [
    "grab_pattern = lambda p: re.search(p,pdf_text).groups()\n",
    "committee = grab_pattern('Committee: (.+)')[0]\n",
    "treasurer = re.search('Treasurer: (.+)',pdf_text).group(1)\n",
    "period = re.search('Period: (.+)',pdf_text).group(1)\n",
    "submitted = re.search('Submission date: (.+)',pdf_text).group(1)\n",
    "received = re.search('Received by the Board (.+)',pdf_text).group(1)\n",
    "name = re.search('Name: (.+)',pdf_text).group(1)\n",
    "employer = grab_pattern('Employer: (.+)')\n",
    "street = grab_pattern('Address: (.+)')\n",
    "city, state, zip = re.search('City: (.+) State: (.+) Zip code: (.+)',pdf_text).groups()\n",
    "date, amount = re.search('Date: (.+) Amount: (.+)',pdf_text).groups()\n",
    "inkind, description = re.search('Inkind: (.+) Description:(.*)',pdf_text).groups() #description may be empty\n",
    "loan = grab_pattern('Loan: (.+)')[0]"
   ]
  },
  {
   "cell_type": "code",
   "execution_count": 39,
   "metadata": {},
   "outputs": [
    {
     "data": {
      "text/plain": [
       "'Jones, Katie District 61A Committee (19072)'"
      ]
     },
     "execution_count": 39,
     "metadata": {},
     "output_type": "execute_result"
    }
   ],
   "source": [
    "re.search('Committee: (.+)',pdf_text).groups()[0]"
   ]
  },
  {
   "cell_type": "code",
   "execution_count": 30,
   "metadata": {},
   "outputs": [
    {
     "data": {
      "text/plain": [
       "('Minneapolis', 'MN', '55419')"
      ]
     },
     "execution_count": 30,
     "metadata": {},
     "output_type": "execute_result"
    }
   ],
   "source": []
  },
  {
   "cell_type": "code",
   "execution_count": null,
   "metadata": {},
   "outputs": [],
   "source": []
  }
 ],
 "metadata": {
  "kernelspec": {
   "display_name": "drep",
   "language": "python",
   "name": "python3"
  },
  "language_info": {
   "codemirror_mode": {
    "name": "ipython",
    "version": 3
   },
   "file_extension": ".py",
   "mimetype": "text/x-python",
   "name": "python",
   "nbconvert_exporter": "python",
   "pygments_lexer": "ipython3",
   "version": "3.10.11"
  }
 },
 "nbformat": 4,
 "nbformat_minor": 2
}
